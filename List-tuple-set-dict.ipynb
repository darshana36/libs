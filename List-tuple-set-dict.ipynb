{
  "metadata": {
    "language_info": {
      "codemirror_mode": {
        "name": "python",
        "version": 3
      },
      "file_extension": ".py",
      "mimetype": "text/x-python",
      "name": "python",
      "nbconvert_exporter": "python",
      "pygments_lexer": "ipython3",
      "version": "3.8"
    },
    "kernelspec": {
      "name": "python",
      "display_name": "Python (Pyodide)",
      "language": "python"
    }
  },
  "nbformat_minor": 4,
  "nbformat": 4,
  "cells": [
    {
      "cell_type": "code",
      "source": "print('welcome')",
      "metadata": {
        "trusted": true
      },
      "execution_count": 2,
      "outputs": [
        {
          "name": "stdout",
          "text": "welcome\n",
          "output_type": "stream"
        }
      ]
    },
    {
      "cell_type": "code",
      "source": "#LIST\n#Lists are mutable\n#sort(): Sorts the elements of a list in place\n#sorted(): Assign the sorted elements to a new list and the original list is left as is. \nL = ['one','two','three', 'four', 'five', 'six']\nprint(sorted(L))# dont change original list\nprint (L)\nL.sort() #change original list\nprint (L)",
      "metadata": {
        "trusted": true
      },
      "execution_count": 19,
      "outputs": [
        {
          "name": "stdout",
          "text": "['five', 'four', 'one', 'six', 'three', 'two']\n['one', 'two', 'three', 'four', 'five', 'six']\n['five', 'four', 'one', 'six', 'three', 'two']\n",
          "output_type": "stream"
        }
      ]
    },
    {
      "cell_type": "code",
      "source": "word = ['1','2','3','4']\nword[ : ] = [ ] \nprint(word)",
      "metadata": {
        "trusted": true
      },
      "execution_count": 4,
      "outputs": [
        {
          "name": "stdout",
          "text": "[]\n",
          "output_type": "stream"
        }
      ]
    },
    {
      "cell_type": "code",
      "source": "thislist = [\"apple\", \"banana\", \"cherry\", \"orange\", \"kiwi\", \"melon\", \"mango\"]\nprint(thislist[-4:-1])",
      "metadata": {
        "trusted": true
      },
      "execution_count": 45,
      "outputs": [
        {
          "name": "stdout",
          "text": "['orange', 'kiwi', 'melon']\n",
          "output_type": "stream"
        }
      ]
    },
    {
      "cell_type": "code",
      "source": "#replacing item in list\nthislist[1] = \"blackcurrant\"\nthislist.insert(2, \"watermelon\")\nthislist",
      "metadata": {
        "trusted": true
      },
      "execution_count": 49,
      "outputs": [
        {
          "execution_count": 49,
          "output_type": "execute_result",
          "data": {
            "text/plain": "['apple',\n 'blackcurrant',\n 'watermelon',\n 'watermelon',\n 'cherry',\n 'orange',\n 'kiwi',\n 'melon',\n 'mango']"
          },
          "metadata": {}
        }
      ]
    },
    {
      "cell_type": "code",
      "source": "#Remove SPSS from input_list=['SAS', 'R', 'PYTHON', 'SPSS'] and add 'SPARK' in its place.\ninput_list=['SAS', 'R', 'PYTHON', 'SPSS']\ninput_list.remove('SPSS')\ninput_list.append('SPARK')\nprint(input_list)",
      "metadata": {
        "trusted": true
      },
      "execution_count": 5,
      "outputs": [
        {
          "name": "stdout",
          "text": "['SAS', 'R', 'PYTHON', 'SPARK']\n",
          "output_type": "stream"
        }
      ]
    },
    {
      "cell_type": "code",
      "source": "# extend()\nL = [\"Chemistry\", \"Biology\", [1989,  2004] ,(\"Oreily\" , \"Pearson\")]\nL.extend([5, 8])\nL",
      "metadata": {
        "trusted": true
      },
      "execution_count": 52,
      "outputs": [
        {
          "execution_count": 52,
          "output_type": "execute_result",
          "data": {
            "text/plain": "['Chemistry', 'Biology', [1989, 2004], ('Oreily', 'Pearson'), 5, 8]"
          },
          "metadata": {}
        }
      ]
    },
    {
      "cell_type": "code",
      "source": "# append()\nL = [\"Chemistry\", \"Biology\", [1989,  2004], (\"Oreily\" , \"Pearson\")]\nL.append([5, 8])\nL",
      "metadata": {
        "trusted": true
      },
      "execution_count": 53,
      "outputs": [
        {
          "execution_count": 53,
          "output_type": "execute_result",
          "data": {
            "text/plain": "['Chemistry', 'Biology', [1989, 2004], ('Oreily', 'Pearson'), [5, 8]]"
          },
          "metadata": {}
        }
      ]
    },
    {
      "cell_type": "code",
      "source": "#pop() Remove and return the item at index (default last)\nL.pop()\nL",
      "metadata": {
        "trusted": true
      },
      "execution_count": 54,
      "outputs": [
        {
          "execution_count": 54,
          "output_type": "execute_result",
          "data": {
            "text/plain": "['Chemistry', 'Biology', [1989, 2004], ('Oreily', 'Pearson')]"
          },
          "metadata": {}
        }
      ]
    },
    {
      "cell_type": "code",
      "source": "#remove(value): Remove the first occurrence of a value in the list\nL.remove('Biology')\nL",
      "metadata": {
        "trusted": true
      },
      "execution_count": 55,
      "outputs": [
        {
          "execution_count": 55,
          "output_type": "execute_result",
          "data": {
            "text/plain": "['Chemistry', [1989, 2004], ('Oreily', 'Pearson')]"
          },
          "metadata": {}
        }
      ]
    },
    {
      "cell_type": "code",
      "source": "del L[0]\nL",
      "metadata": {
        "trusted": true
      },
      "execution_count": 56,
      "outputs": [
        {
          "execution_count": 56,
          "output_type": "execute_result",
          "data": {
            "text/plain": "[[1989, 2004], ('Oreily', 'Pearson')]"
          },
          "metadata": {}
        }
      ]
    },
    {
      "cell_type": "code",
      "source": "L.clear()\nL",
      "metadata": {
        "trusted": true
      },
      "execution_count": 57,
      "outputs": [
        {
          "execution_count": 57,
          "output_type": "execute_result",
          "data": {
            "text/plain": "[]"
          },
          "metadata": {}
        }
      ]
    },
    {
      "cell_type": "code",
      "source": "#Convert a list ['Pythons syntax is easy to learn', 'Pythons syntax is very clear'] to a string using ‘&’. \n#The sample output of this string will be:\n#Pythons syntax is easy to learn & Pythons syntax is very clear\nm= ['Pythons syntax is easy to learn', 'Pythons syntax is very clear']\nstring_1 = m[0] + ' & ' + m[1]\nprint(string_1)",
      "metadata": {
        "trusted": true
      },
      "execution_count": 20,
      "outputs": [
        {
          "name": "stdout",
          "text": "Pythons syntax is easy to learn & Pythons syntax is very clear\n",
          "output_type": "stream"
        }
      ]
    },
    {
      "cell_type": "code",
      "source": "#Tuples\n#Tuples are ordered sequences, which means the order in which the elements are inserted remains the same. \n#This makes them flexible for indexing and slicing just like lists\nt = (\"disco\", 12, 4.5)\nprint(type(t))\nt[0][2]",
      "metadata": {
        "trusted": true
      },
      "execution_count": 30,
      "outputs": [
        {
          "name": "stdout",
          "text": "<class 'tuple'>\n",
          "output_type": "stream"
        },
        {
          "execution_count": 30,
          "output_type": "execute_result",
          "data": {
            "text/plain": "'s'"
          },
          "metadata": {}
        }
      ]
    },
    {
      "cell_type": "code",
      "source": "#tuples are immutable, \n#one way to do this is to convert the tuple to a list, add the element, \n#and convert it back to a tuple.\n#Add the element ‘Python’ to a tuple input_tuple = ('Monty Python', 'British', 1969)\ninput_tuple = ('Monty Python', 'British', 1969)\ntuple_2= input_tuple[0:3] + ('Python',)\nprint(tuple_2)",
      "metadata": {
        "trusted": true
      },
      "execution_count": 23,
      "outputs": [
        {
          "name": "stdout",
          "text": "('Monty Python', 'British', 1969, 'Python')\n",
          "output_type": "stream"
        }
      ]
    },
    {
      "cell_type": "code",
      "source": "#If the number of variables is less than the number of values, \n#you can add an * to the variable name and the values will be assigned to the variable as a list:\nfruits = (\"apple\", \"banana\", \"cherry\", \"strawberry\", \"raspberry\")\n(green, *yellow, red) = fruits\nprint(green)\nprint(yellow)\nprint(red)",
      "metadata": {
        "trusted": true
      },
      "execution_count": 60,
      "outputs": [
        {
          "name": "stdout",
          "text": "apple\n['banana', 'cherry', 'strawberry']\nraspberry\n",
          "output_type": "stream"
        }
      ]
    },
    {
      "cell_type": "code",
      "source": "#SETS\n#unordered unchangable no duplicates\n#Set items can appear in a different order every time you use them, and cannot be referred to by index or key\nGrades = [\"A\", \"A\", \"B\", \"C\", \"D\", \"B\", \"B\", \"C\", \"D\", \"G\", \"C\", \"C\", \"A\", \"B\", \"F\", \"D\", \"C\", \"B\", \"C\", \"A\", \"B\", \"F\", \"B\", \"A\", \"E\", \"B\", \"B\", \"C\", \"D\"]\nG= set(Grades)\nG",
      "metadata": {
        "trusted": true
      },
      "execution_count": 84,
      "outputs": [
        {
          "execution_count": 84,
          "output_type": "execute_result",
          "data": {
            "text/plain": "{'A', 'B', 'C', 'D', 'E', 'F', 'G'}"
          },
          "metadata": {}
        }
      ]
    },
    {
      "cell_type": "code",
      "source": "G.add('Z')\nprint(type(G))\nG.update('V')\nG",
      "metadata": {
        "trusted": true
      },
      "execution_count": 85,
      "outputs": [
        {
          "name": "stdout",
          "text": "<class 'set'>\n",
          "output_type": "stream"
        },
        {
          "execution_count": 85,
          "output_type": "execute_result",
          "data": {
            "text/plain": "{'A', 'B', 'C', 'D', 'E', 'F', 'G', 'V', 'Z'}"
          },
          "metadata": {}
        }
      ]
    },
    {
      "cell_type": "code",
      "source": "G.remove('Z')\nG.discard('V')\nG",
      "metadata": {
        "trusted": true
      },
      "execution_count": 86,
      "outputs": [
        {
          "execution_count": 86,
          "output_type": "execute_result",
          "data": {
            "text/plain": "{'A', 'B', 'C', 'D', 'E', 'F', 'G'}"
          },
          "metadata": {}
        }
      ]
    },
    {
      "cell_type": "code",
      "source": "G.pop() #rando pop happens",
      "metadata": {
        "trusted": true
      },
      "execution_count": 88,
      "outputs": [
        {
          "execution_count": 88,
          "output_type": "execute_result",
          "data": {
            "text/plain": "'E'"
          },
          "metadata": {}
        }
      ]
    },
    {
      "cell_type": "code",
      "source": "A = {0,2,4,6,8}\n\nB = {1,2,3,4,5}\nA.union(B) ",
      "metadata": {
        "trusted": true
      },
      "execution_count": 25,
      "outputs": [
        {
          "execution_count": 25,
          "output_type": "execute_result",
          "data": {
            "text/plain": "{0, 1, 2, 3, 4, 5, 6, 8}"
          },
          "metadata": {}
        }
      ]
    },
    {
      "cell_type": "code",
      "source": "A.intersection(B)",
      "metadata": {
        "trusted": true
      },
      "execution_count": 26,
      "outputs": [
        {
          "execution_count": 26,
          "output_type": "execute_result",
          "data": {
            "text/plain": "{2, 4}"
          },
          "metadata": {}
        }
      ]
    },
    {
      "cell_type": "code",
      "source": "A.difference(B) #elements present in A and not in B",
      "metadata": {
        "trusted": true
      },
      "execution_count": 27,
      "outputs": [
        {
          "execution_count": 27,
          "output_type": "execute_result",
          "data": {
            "text/plain": "{0, 6, 8}"
          },
          "metadata": {}
        }
      ]
    },
    {
      "cell_type": "code",
      "source": "A^B #union of the elements A and B minus the intersection of A and B.",
      "metadata": {
        "trusted": true
      },
      "execution_count": 29,
      "outputs": [
        {
          "execution_count": 29,
          "output_type": "execute_result",
          "data": {
            "text/plain": "{0, 1, 3, 5, 6, 8}"
          },
          "metadata": {}
        }
      ]
    },
    {
      "cell_type": "code",
      "source": "#Dictionaries\n#changable, duplicates not allowed\nthisdict = {\n  \"brand\": \"Ford\",\n  \"model\": \"Mustang\",\n  \"year\": 1964\n}\nxi = thisdict[\"model\"]\nxi",
      "metadata": {
        "trusted": true
      },
      "execution_count": 94,
      "outputs": [
        {
          "execution_count": 94,
          "output_type": "execute_result",
          "data": {
            "text/plain": "'Mustang'"
          },
          "metadata": {}
        }
      ]
    },
    {
      "cell_type": "code",
      "source": "thisdict[\"year\"] = 2018\nthisdict.update({'color':'yellow'})\nthisdict",
      "metadata": {
        "trusted": true
      },
      "execution_count": 96,
      "outputs": [
        {
          "execution_count": 96,
          "output_type": "execute_result",
          "data": {
            "text/plain": "{'brand': 'Ford', 'model': 'Mustang', 'year': 2018, 'color': 'yellow'}"
          },
          "metadata": {}
        }
      ]
    },
    {
      "cell_type": "code",
      "source": "thisdict.popitem()",
      "metadata": {
        "trusted": true
      },
      "execution_count": 98,
      "outputs": [
        {
          "execution_count": 98,
          "output_type": "execute_result",
          "data": {
            "text/plain": "('color', 'yellow')"
          },
          "metadata": {}
        }
      ]
    },
    {
      "cell_type": "code",
      "source": "car = {\n\"brand\": \"Ford\",\n\"model\": \"Mustang\",\n\"year\": 1964\n}\nx = car.items()\nprint(x) #before the change\ncar[\"color\"] = \"red\"\nprint(x) #after the change\nprint(car)",
      "metadata": {
        "trusted": true
      },
      "execution_count": 92,
      "outputs": [
        {
          "name": "stdout",
          "text": "dict_items([('brand', 'Ford'), ('model', 'Mustang'), ('year', 1964)])\ndict_items([('brand', 'Ford'), ('model', 'Mustang'), ('year', 1964), ('color', 'red')])\n{'brand': 'Ford', 'model': 'Mustang', 'year': 1964, 'color': 'red'}\n",
          "output_type": "stream"
        }
      ]
    },
    {
      "cell_type": "code",
      "source": "'color' in car",
      "metadata": {
        "trusted": true
      },
      "execution_count": 93,
      "outputs": [
        {
          "execution_count": 93,
          "output_type": "execute_result",
          "data": {
            "text/plain": "True"
          },
          "metadata": {}
        }
      ]
    },
    {
      "cell_type": "code",
      "source": "dict1={'Sam':21, 'Cody':12, 'Addy':3, 'Zach':45, 'Amy':6}\ndict1.keys()\ndict1.values()\nsorted(dict1.values())",
      "metadata": {
        "trusted": true
      },
      "execution_count": 41,
      "outputs": [
        {
          "execution_count": 41,
          "output_type": "execute_result",
          "data": {
            "text/plain": "[3, 6, 12, 21, 45]"
          },
          "metadata": {}
        }
      ]
    },
    {
      "cell_type": "code",
      "source": "#Print a random integer between 100 and 135\n# Import required libraries:\nfrom random import seed\nfrom random import randint\n\n# Print a random integer in the given range:\nprint(randint(100,135))",
      "metadata": {
        "trusted": true
      },
      "execution_count": 32,
      "outputs": [
        {
          "name": "stdout",
          "text": "121\n",
          "output_type": "stream"
        }
      ]
    },
    {
      "cell_type": "code",
      "source": "#Create a list consisting of first 10 even numbers.\nlist = [i for i in range(2,21,2)]\nlist",
      "metadata": {
        "trusted": true
      },
      "execution_count": 37,
      "outputs": [
        {
          "execution_count": 37,
          "output_type": "execute_result",
          "data": {
            "text/plain": "[2, 4, 6, 8, 10, 12, 14, 16, 18, 20]"
          },
          "metadata": {}
        }
      ]
    },
    {
      "cell_type": "code",
      "source": "7 in list",
      "metadata": {
        "trusted": true
      },
      "execution_count": 38,
      "outputs": [
        {
          "execution_count": 38,
          "output_type": "execute_result",
          "data": {
            "text/plain": "False"
          },
          "metadata": {}
        }
      ]
    },
    {
      "cell_type": "code",
      "source": "",
      "metadata": {},
      "execution_count": null,
      "outputs": []
    }
  ]
}